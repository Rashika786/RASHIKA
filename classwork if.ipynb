{
 "cells": [
  {
   "cell_type": "code",
   "execution_count": 1,
   "id": "12687375",
   "metadata": {},
   "outputs": [
    {
     "name": "stdout",
     "output_type": "stream",
     "text": [
      "Enter 1st number: 10\n",
      "Enter 2nd number: 20\n",
      "2nd Number is the biggest\n"
     ]
    }
   ],
   "source": [
    "#biggest among 2\n",
    "a=int(input(\"Enter 1st number: \"))\n",
    "b=int(input(\"Enter 2nd number: \"))\n",
    "if(a>b):\n",
    "    print(\"1st number is biggest:\")\n",
    "else:\n",
    "    print(\"2nd Number is the biggest\")"
   ]
  },
  {
   "cell_type": "code",
   "execution_count": 2,
   "id": "c978c822",
   "metadata": {},
   "outputs": [
    {
     "name": "stdout",
     "output_type": "stream",
     "text": [
      "Enter a number: -9\n",
      "Number is negative\n"
     ]
    }
   ],
   "source": [
    "# +ve,-ve,zero\n",
    "a=int(input(\"Enter a number: \"))\n",
    "if(a>0):\n",
    "    print(\"Number is positve\")\n",
    "elif(a<0):\n",
    "    print(\"Number is negative\")\n",
    "else:\n",
    "    print(\"Number is zero\")\n",
    "    "
   ]
  },
  {
   "cell_type": "code",
   "execution_count": 3,
   "id": "83900a8a",
   "metadata": {},
   "outputs": [
    {
     "name": "stdout",
     "output_type": "stream",
     "text": [
      "Enter length of the rectangle: 20\n",
      "Enter breadth of the rectangle: 20\n",
      "It is A SQUARE\n"
     ]
    }
   ],
   "source": [
    "#check rect\n",
    "a=int(input(\"Enter length of the rectangle: \"))\n",
    "b=int(input(\"Enter breadth of the rectangle: \"))\n",
    "if(a==b):\n",
    "    print(\"It is A SQUARE\")\n",
    "else:\n",
    "    print(\"it is not a square\")"
   ]
  },
  {
   "cell_type": "code",
   "execution_count": 4,
   "id": "b440655c",
   "metadata": {},
   "outputs": [
    {
     "name": "stdout",
     "output_type": "stream",
     "text": [
      "Enter 1st number: 500\n",
      "Enter 2nd number: 520\n",
      "product of the number is 260000\n",
      "Sum of the numbers:  1020\n"
     ]
    }
   ],
   "source": [
    "#product 10000\n",
    "a=int(input(\"Enter 1st number: \"))\n",
    "b=int(input(\"Enter 2nd number: \"))\n",
    "print(\"product of the number is\",a*b)\n",
    "if((a*b)>1000):\n",
    "    print(\"Sum of the numbers: \",a+b)"
   ]
  },
  {
   "cell_type": "code",
   "execution_count": 6,
   "id": "7710f807",
   "metadata": {},
   "outputs": [
    {
     "name": "stdout",
     "output_type": "stream",
     "text": [
      "Enter total number of classes: 200\n",
      "Enter number of attended: 100\n",
      "You can't attend exam\n"
     ]
    }
   ],
   "source": [
    "#attendence\n",
    "a=int(input(\"Enter total number of classes: \"))\n",
    "b=int(input(\"Enter number of attended: \"))\n",
    "c=(b/a)*100\n",
    "if(c<75):\n",
    "    print(\"You can't attend exam\")\n",
    "else:\n",
    "    print(\"You Can attende Exam\")"
   ]
  },
  {
   "cell_type": "code",
   "execution_count": 8,
   "id": "e3c555ee",
   "metadata": {},
   "outputs": [
    {
     "name": "stdout",
     "output_type": "stream",
     "text": [
      "enter the list of numbers1,2,4,3,7,1\n",
      "True\n"
     ]
    }
   ],
   "source": [
    "#check 1st and last letter same\n",
    "n=list(map(int,input(\"enter the list of numbers\").split(\",\")))\n",
    "if n[0]==n[-1]:\n",
    "    print(\"True\")\n",
    "else:\n",
    "    print(\"false\")"
   ]
  },
  {
   "cell_type": "code",
   "execution_count": null,
   "id": "a8c1e6ec",
   "metadata": {},
   "outputs": [],
   "source": []
  }
 ],
 "metadata": {
  "kernelspec": {
   "display_name": "Python 3 (ipykernel)",
   "language": "python",
   "name": "python3"
  },
  "language_info": {
   "codemirror_mode": {
    "name": "ipython",
    "version": 3
   },
   "file_extension": ".py",
   "mimetype": "text/x-python",
   "name": "python",
   "nbconvert_exporter": "python",
   "pygments_lexer": "ipython3",
   "version": "3.12.3"
  }
 },
 "nbformat": 4,
 "nbformat_minor": 5
}
