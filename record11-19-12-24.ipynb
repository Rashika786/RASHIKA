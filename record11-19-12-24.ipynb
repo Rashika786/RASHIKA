
{
 "cells": [
  {
   "cell_type": "code",
   "execution_count": 2,
   "id": "3cc1f2a2",
   "metadata": {},
   "outputs": [
    {
     "name": "stdout",
     "output_type": "stream",
     "text": [
      "Enter emails and phone numbers separated by commas: fidhaa200@gmail.com,+91-7736162544\n",
      "\n",
      "Valid Emails:\n",
      "- fidhaa200@gmail.com\n",
      "\n",
      "Valid Phone Numbers:\n",
      "- +91-7736162544\n"
     ]
    }
   ],
   "source": [
    "#Write a Python program that accepts a list of email addresses and phone numbers from the use regular expressions.\n",
    "import re\n",
    "\n",
    "email_pattern = r'^[a-zA-Z0-9._%+-]+@[a-zA-Z0-9.-]+\\.[a-zA-Z]{2,}$'\n",
    "phone_pattern = r'^\\+?\\d{0,2}[-\\s]?\\d{10}$'\n",
    "\n",
    "user_input = input(\"Enter emails and phone numbers separated by commas: \")\n",
    "inputs = [item.strip() for item in user_input.split(\",\")]\n",
    "\n",
    "valid_emails = []\n",
    "valid_phone_numbers = []\n",
    "\n",
    "for item in inputs:\n",
    "    if re.match(email_pattern, item):\n",
    "        valid_emails.append(item)\n",
    "    elif re.match(phone_pattern, item):\n",
    "        valid_phone_numbers.append(item)\n",
    "\n",
    "print(\"\\nValid Emails:\")\n",
    "for email in valid_emails:\n",
    "    print(f\"- {email}\")\n",
    "\n",
    "print(\"\\nValid Phone Numbers:\")\n",
    "for phone in valid_phone_numbers:\n",
    "    print(f\"- {phone}\")\n"
   ]
  },
  {
   "cell_type": "code",
   "execution_count": null,
   "id": "b184696a",
   "metadata": {},
   "outputs": [],
   "source": []
  }
 ],
 "metadata": {
  "kernelspec": {
   "display_name": "Python 3 (ipykernel)",
   "language": "python",
   "name": "python3"
  },
  "language_info": {
   "codemirror_mode": {
    "name": "ipython",
    "version": 3
   },
   "file_extension": ".py",
   "mimetype": "text/x-python",
   "name": "python",
   "nbconvert_exporter": "python",
   "pygments_lexer": "ipython3",
   "version": "3.12.3"
  }
 },
 "nbformat": 4,
 "nbformat_minor": 5
}
