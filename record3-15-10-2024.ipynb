
{
 "cells": [
  {
   "cell_type": "code",
   "execution_count": 1,
   "id": "1bd5776d",
   "metadata": {},
   "outputs": [
    {
     "name": "stdout",
     "output_type": "stream",
     "text": [
      "Enter a string: python\n",
      "first and last chars exchaged string is: nythop\n"
     ]
    }
   ],
   "source": [
    "#first and last chars are exchanged\n",
    "\n",
    "original_string = input(\"Enter a string: \")\n",
    "new_string = original_string[-1] + original_string[1:-1] + original_string[0] * (len(original_string) > 0)\n",
    "print(\"first and last chars exchaged string is:\",new_string)\n"
   ]
  },
  {
   "cell_type": "code",
   "execution_count": 4,
   "id": "b5ca08c8",
   "metadata": {},
   "outputs": [
    {
     "name": "stdout",
     "output_type": "stream",
     "text": [
      "Enter the first string: hello\n",
      "Enter the second string: rashika\n",
      "first two chars of string is swapping from two strings combined: rallo heshika\n"
     ]
    }
   ],
   "source": [
    "#swap first two chars of string from the two strings combined\n",
    "\n",
    "string1 = input(\"Enter the first string: \")\n",
    "string2 = input(\"Enter the second string: \")\n",
    "new_string = string2[:2] + string1[2:] + \" \" + string1[:2] + string2[2:]\n",
    "print(\"first two chars of string is swapping from two strings combined:\",new_string)\n",
    "\n"
   ]
  },
  {
   "cell_type": "code",
   "execution_count": 5,
   "id": "404c1cc7",
   "metadata": {},
   "outputs": [
    {
     "name": "stdout",
     "output_type": "stream",
     "text": [
      "Enter a string: onion\n",
      "char changed to $,except first char itself= oni$n\n"
     ]
    }
   ],
   "source": [
    "#all occurence of first char have been changed to $,except first char itself\n",
    "\n",
    "original_string = input(\"Enter a string: \")\n",
    "first_char = original_string[0]\n",
    "new_string = first_char + original_string[1:].replace(first_char, '$')\n",
    "print(\"char changed to $,except first char itself=\",new_string)\n"
   ]
  },
  {
   "cell_type": "code",
   "execution_count": 4,
   "id": "51677c99",
   "metadata": {},
   "outputs": [
    {
     "name": "stdout",
     "output_type": "stream",
     "text": [
      "Enter colors:red,ble,green,yellow,black\n",
      "['red', 'ble', 'green', 'yellow', 'black']\n",
      "First color: red\n",
      "Last color: black\n"
     ]
    }
   ],
   "source": [
    "#list of colors names of comma seperated entered by user and display first and last colors\n",
    "\n",
    "color= input(\"Enter colors:\").split(\",\")\n",
    "print(color)\n",
    "print(\"First color:\", colors[0])\n",
    "print(\"Last color:\", colors[-1])\n"
   ]
  },
  {
   "cell_type": "code",
   "execution_count": 7,
   "id": "7f8d1cff",
   "metadata": {},
   "outputs": [
    {
     "name": "stdout",
     "output_type": "stream",
     "text": [
      "Enter the filename: rashika.py\n",
      "File extension: py\n"
     ]
    }
   ],
   "source": [
    "#accept file name from the user and print extension of that(.using list)\n",
    "\n",
    "filename = input(\"Enter the filename: \")\n",
    "parts = filename.split('.')\n",
    "extension = parts[-1] * (len(parts) > 1)\n",
    "print(\"File extension:\", extension)\n"
   ]
  },
  {
   "cell_type": "code",
   "execution_count": 15,
   "id": "e306d76c",
   "metadata": {},
   "outputs": [
    {
     "name": "stdout",
     "output_type": "stream",
     "text": [
      "Enter elements of the tuple separated by commas: 10,20,30,40,50\n",
      "3rd element: 30\n",
      "3rd element from the last: 30\n"
     ]
    }
   ],
   "source": [
    "#get third element and third element from last of tuple\n",
    "\n",
    "input = input(\"Enter elements of the tuple separated by commas: \")\n",
    "my_tuple = tuple(input.split(','))\n",
    "third_element = my_tuple[2]  \n",
    "third_from_last = my_tuple[-3]\n",
    "print(\"3rd element:\", third_element)\n",
    "print(\"3rd element from the last:\", third_from_last)\n",
    "\n"
   ]
  },
  {
   "cell_type": "code",
   "execution_count": 8,
   "id": "9ae561dd",
   "metadata": {},
   "outputs": [
    {
     "name": "stdout",
     "output_type": "stream",
     "text": [
      "enter the color 1:red,black,orange,pink\n",
      "{'pink', 'black', 'red', 'orange'}\n",
      "enter the color 2:black,blue,yellow,orange\n",
      "{'blue', 'yellow', 'black', 'orange'}\n",
      "Colors in color_1 not in color_2: {'pink', 'red'}\n"
     ]
    }
   ],
   "source": [
    "#print all colors in color1 not in color2\n",
    "\n",
    "color_1 = input(\"enter the color 1:\")\n",
    "c1=set(color_1.split(\",\"))\n",
    "print(c1)\n",
    "color_2 = input(\"enter the color 2:\")\n",
    "c2=set(color_2.split(\",\"))\n",
    "print(c2)\n",
    "same_colors =c1-c2\n",
    "print(\"Colors in color_1 not in color_2:\",same_colors)\n"
   ]
  },
  {
   "cell_type": "code",
   "execution_count": 11,
   "id": "ffc19a23",
   "metadata": {},
   "outputs": [
    {
     "name": "stdout",
     "output_type": "stream",
     "text": [
      "Enter name of five students separated by commas: aneesa,nidha,rashika,shahma,zara\n",
      "\n",
      "students name in ascending order: {1: 'aneesa', 2: 'nidha', 3: 'rashika', 4: 'shahma', 5: 'zara'}\n",
      "\n",
      "students name in descending order: {5: 'zara', 4: 'shahma', 3: 'rashika', 2: 'nidha', 1: 'aneesa'}\n"
     ]
    }
   ],
   "source": [
    "#sort dictionary in ascending and descending order(accepts five students)\n",
    "\n",
    "name = input(\"Enter name of five students separated by commas: \").split(\",\")\n",
    "s_name={1:name[0],2:name[1],3:name[2],4:name[3],5:name[4]}\n",
    "sorted_asc=dict(sorted(s_name.items()))\n",
    "print(\"\\nstudents name in ascending order:\",sorted_asc)\n",
    "sorted_desc=dict(sorted(s_name.items(),reverse=True))\n",
    "print(\"\\nstudents name in descending order:\",sorted_desc)"
   ]
  },
  {
   "cell_type": "code",
   "execution_count": 12,
   "id": "c37a77ba",
   "metadata": {},
   "outputs": [
    {
     "name": "stdout",
     "output_type": "stream",
     "text": [
      "Enter name of three students separated by commas: rashika,aneesa,shahma\n",
      "first dictionary: {1: 'rashika', 2: 'aneesa', 3: 'shahma'}\n",
      "Enter name of two students separated by commas: ayisha,nidha\n",
      "second dictionary: {4: 'ayisha', 5: 'nidha'}\n",
      "Merged Dictionary: {1: 'rashika', 2: 'aneesa', 3: 'shahma', 4: 'ayisha', 5: 'nidha'}\n"
     ]
    }
   ],
   "source": [
    "#merge two dictionaries(contain three and two students)\n",
    "\n",
    "dic1 =input(\"Enter name of three students separated by commas: \").split(\",\")\n",
    "m={1:dic1[0],2:dic1[1],3:dic1[2]}\n",
    "print(\"first dictionary:\",m)\n",
    "\n",
    "dic2 =input(\"Enter name of two students separated by commas: \").split(\",\")\n",
    "n={4:dic2[0],5:dic2[1]}\n",
    "print(\"second dictionary:\",n)\n",
    "\n",
    "m.update(n)\n",
    "print(\"Merged Dictionary:\",m)\n"
   ]
  },
  {
   "cell_type": "code",
   "execution_count": 14,
   "id": "8cc4cb64",
   "metadata": {},
   "outputs": [
    {
     "name": "stdout",
     "output_type": "stream",
     "text": [
      "Even numbers from 1 to 25:\n",
      "[2, 4, 6, 8, 10, 12, 14, 16, 18, 20, 22, 24]\n",
      "Sum of even numbers: 156\n"
     ]
    }
   ],
   "source": [
    "#print all even no's from 1 to 25 and calculate sum(using range)\n",
    "\n",
    "even_numbers = list(range(2, 26, 2))\n",
    "sum_even_numbers = sum(even_numbers)\n",
    "print(\"Even numbers from 1 to 25:\")\n",
    "print(even_numbers)\n",
    "print(\"Sum of even numbers:\", sum_even_numbers)\n"
   ]
  },
  {
   "cell_type": "code",
   "execution_count": null,
   "id": "220b3fc2",
   "metadata": {},
   "outputs": [],
   "source": []
  }
 ],
 "metadata": {
  "kernelspec": {
   "display_name": "Python 3 (ipykernel)",
   "language": "python",
   "name": "python3"
  },
  "language_info": {
   "codemirror_mode": {
    "name": "ipython",
    "version": 3
   },
   "file_extension": ".py",
   "mimetype": "text/x-python",
   "name": "python",
   "nbconvert_exporter": "python",
   "pygments_lexer": "ipython3",
   "version": "3.12.3"
  }
 },
 "nbformat": 4,
 "nbformat_minor": 5
}
