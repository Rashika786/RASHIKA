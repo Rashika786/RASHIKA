
{
 "cells": [
  {
   "cell_type": "code",
   "execution_count": 6,
   "id": "0dcc4e05",
   "metadata": {},
   "outputs": [
    {
     "name": "stdout",
     "output_type": "stream",
     "text": [
      "Enter a number: 0\n",
      "Error: Division by zero is not allowed!\n"
     ]
    }
   ],
   "source": [
    "#1. Write a program to handle ZeroDivisionError, ValueError which may arise when two numbers are being divided.\n",
    "try:\n",
    "    n = int(input(\"Enter a number: \"))\n",
    "    a = 10 / n\n",
    "except ZeroDivisionError:\n",
    "    print(\"Error: Division by zero is not allowed!\") \n",
    "except valueError:\n",
    "    print(\"Error:Invalid input .Input numeric value\")\n",
    "else:\n",
    "    print(a)\n"
   ]
  },
  {
   "cell_type": "code",
   "execution_count": null,
   "id": "901849bd",
   "metadata": {},
   "outputs": [],
   "source": []
  }
 ],
 "metadata": {
  "kernelspec": {
   "display_name": "Python 3 (ipykernel)",
   "language": "python",
   "name": "python3"
  },
  "language_info": {
   "codemirror_mode": {
    "name": "ipython",
    "version": 3
   },
   "file_extension": ".py",
   "mimetype": "text/x-python",
   "name": "python",
   "nbconvert_exporter": "python",
   "pygments_lexer": "ipython3",
   "version": "3.11.5"
  }
 },
 "nbformat": 4,
 "nbformat_minor": 5
}
