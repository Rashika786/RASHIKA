{
 "cells": [
  {
   "cell_type": "code",
   "execution_count": 2,
   "id": "b12a71e9",
   "metadata": {},
   "outputs": [
    {
     "name": "stdout",
     "output_type": "stream",
     "text": [
      "enter the final year:2056\n",
      "Leap year from 2024 to 2056 : 2024 2028 2032 2036 2040 2044 2048 2052 2056\n"
     ]
    }
   ],
   "source": [
    "#Display future leap years from current year to a final year entered by user. \n",
    "def leap_year(strt,end):\n",
    "    leap_year_list=[str(year) for year in range(strt,end+1) if(year%4==0 and year%100!=0) or(year%400==0)]\n",
    "    print(\"Leap year from\",strt,\"to\",end,\":\",\" \".join(leap_year_list))\n",
    "strt=2024\n",
    "end=int(input(\"enter the final year:\"))\n",
    "leap_year(strt,end)\n"
   ]
  },
  {
   "cell_type": "code",
   "execution_count": 4,
   "id": "e233ca79",
   "metadata": {},
   "outputs": [
    {
     "name": "stdout",
     "output_type": "stream",
     "text": [
      "enrter a number:8\n",
      "The factorial of 8 is 40320\n"
     ]
    }
   ],
   "source": [
    "# Program to find the factorial of a number.\n",
    "def factorial(n):\n",
    "     if n == 0:\n",
    "            return 1\n",
    "     else:\n",
    "            return n * factorial(n-1)\n",
    "num=int(input(\"enrter a number:\"))\n",
    "print(\"The factorial of\",num, \"is\",factorial(num))\n",
    "\n"
   ]
  },
  {
   "cell_type": "code",
   "execution_count": 5,
   "id": "c78ff493",
   "metadata": {},
   "outputs": [
    {
     "name": "stdout",
     "output_type": "stream",
     "text": [
      "Enter the number of terms:4\n",
      "The fibonacci series is : [0, 1, 1, 2]\n"
     ]
    }
   ],
   "source": [
    "#generate fibonacci series of N terms in python \n",
    "def fibonacci(n):\n",
    "    fibo=[]\n",
    "    a,b=0,1\n",
    "    for i in range(n):\n",
    "        fibo.append(a)\n",
    "        a,b=b,a+b\n",
    "    return fibo\n",
    "num=int(input(\"Enter the number of terms:\"))\n",
    "if num<=0:\n",
    "    print(\"Enter a positive number\")\n",
    "else:\n",
    "    print(\"The fibonacci series is :\",fibonacci(num))\n"
   ]
  },
  {
   "cell_type": "code",
   "execution_count": 6,
   "id": "2ea23f8a",
   "metadata": {},
   "outputs": [
    {
     "name": "stdout",
     "output_type": "stream",
     "text": [
      "enter a list of words:my name is Rashika\n",
      "The longest word is 'Rashika' and its length is:('Rashika', 7)\n"
     ]
    }
   ],
   "source": [
    "#accept a list of words and return longest word\n",
    "def wordlength(word):\n",
    "    longest=max(words,key=len)\n",
    "    return longest,len(longest)\n",
    "words=input(\"enter a list of words:\").split()\n",
    "word,length=wordlength(words)\n",
    "length=wordlength(words)\n",
    "print(f\"The longest word is '{word}' and its length is:{length}\")"
   ]
  },
  {
   "cell_type": "code",
   "execution_count": 11,
   "id": "733eb34c",
   "metadata": {},
   "outputs": [
    {
     "name": "stdout",
     "output_type": "stream",
     "text": [
      "enter no. of rows in pattern:5\n",
      "*\n",
      "* *\n",
      "* * *\n",
      "* * * *\n",
      "* * * * *\n",
      "* * * *\n",
      "* * *\n",
      "* *\n",
      "*\n"
     ]
    }
   ],
   "source": [
    "#to print a given pattern\n",
    "def pattern(n):\n",
    "    for i in range(1, n + 1):\n",
    "        print(\" \".join([\"*\"]*i))\n",
    "    for i in range(n-1,0,-1):\n",
    "        print(\" \".join([\"*\"] * i))\n",
    "n=int(input(\"enter no. of rows in pattern:\"))\n",
    "pattern(n)"
   ]
  },
  {
   "cell_type": "code",
   "execution_count": 8,
   "id": "234f0770",
   "metadata": {},
   "outputs": [
    {
     "name": "stdout",
     "output_type": "stream",
     "text": [
      "enter a number:15\n",
      "factors are: [1, 3, 5, 15]\n"
     ]
    }
   ],
   "source": [
    "#factor of number\n",
    "def factors(n):\n",
    "    factor=[]\n",
    "    for i in range(1,n+1):\n",
    "        if n%i==0:\n",
    "            factor.append(i)\n",
    "    return factor\n",
    "num=int(input(\"enter a number:\"))\n",
    "print(\"factors are:\",factors(num))\n"
   ]
  },
  {
   "cell_type": "code",
   "execution_count": 12,
   "id": "b45df212",
   "metadata": {},
   "outputs": [
    {
     "name": "stdout",
     "output_type": "stream",
     "text": [
      "Enter the number of steps:4\n",
      "1\n",
      "2 4\n",
      "3 6 9\n",
      "4 8 12 16\n"
     ]
    }
   ],
   "source": [
    "#to display the given pyramid\n",
    "def pyramid(n):\n",
    "    for i in range(1,n+1):\n",
    "        row=[]\n",
    "        for j in range (1, i + 1):\n",
    "            row.append(i*j)\n",
    "        print(\" \".join(map(str,row)))\n",
    "a=int(input(\"Enter the number of steps:\"))\n",
    "pyramid(a)"
   ]
  },
  {
   "cell_type": "code",
   "execution_count": 14,
   "id": "cbbdd256",
   "metadata": {},
   "outputs": [
    {
     "name": "stdout",
     "output_type": "stream",
     "text": [
      "Enter the side length of the square:6\n",
      "Enter the length of the rectangle:4\n",
      "Enter the breadth of the rectangle:8\n",
      "Enter the base of the triangle:6\n",
      "Enter the height of the triangle:4\n",
      "Area of square: 36.0\n",
      "Area of rectangle: 32.0\n",
      "Area of triangle: 12.0\n"
     ]
    }
   ],
   "source": [
    "#lambda function\n",
    "area_square=lambda side:side ** 2\n",
    "area_rectangle=lambda length,breadth: length *breadth\n",
    "area_triangle=lambda base,height:0.5 *base *height\n",
    "\n",
    "side=float(input(\"Enter the side length of the square:\"))\n",
    "length=float(input(\"Enter the length of the rectangle:\"))\n",
    "breadth=float(input(\"Enter the breadth of the rectangle:\"))\n",
    "base=float(input(\"Enter the base of the triangle:\"))\n",
    "height=float(input(\"Enter the height of the triangle:\"))\n",
    "\n",
    "print(\"Area of square:\",area_square(side))\n",
    "print(\"Area of rectangle:\", area_rectangle(length,width))\n",
    "print(\"Area of triangle:\", area_triangle(base,height))"
   ]
  },
  {
   "cell_type": "code",
   "execution_count": null,
   "id": "8996b029",
   "metadata": {},
   "outputs": [],
   "source": []
  }
 ],
 "metadata": {
  "kernelspec": {
   "display_name": "Python 3 (ipykernel)",
   "language": "python",
   "name": "python3"
  },
  "language_info": {
   "codemirror_mode": {
    "name": "ipython",
    "version": 3
   },
   "file_extension": ".py",
   "mimetype": "text/x-python",
   "name": "python",
   "nbconvert_exporter": "python",
   "pygments_lexer": "ipython3",
   "version": "3.12.3"
  }
 },
 "nbformat": 4,
 "nbformat_minor": 5
}
