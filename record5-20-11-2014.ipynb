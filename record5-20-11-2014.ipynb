{
 "cells": [
  {
   "cell_type": "code",
   "execution_count": 1,
   "id": "d5a70624",
   "metadata": {},
   "outputs": [
    {
     "name": "stdout",
     "output_type": "stream",
     "text": [
      "Enter first number: 45\n",
      "Enter second number: 60\n",
      "GCD of the 2 number: 15\n"
     ]
    }
   ],
   "source": [
    "#1. Find gcd of 2 numbers.\n",
    "\n",
    "a = int(input(\"Enter first number: \"))\n",
    "b = int(input(\"Enter second number: \"))\n",
    "\n",
    "while b:\n",
    "    a, b = b, a % b\n",
    "\n",
    "print(f\"GCD of the 2 number: {a}\")\n"
   ]
  },
  {
   "cell_type": "code",
   "execution_count": 3,
   "id": "ffcd6798",
   "metadata": {},
   "outputs": [
    {
     "name": "stdout",
     "output_type": "stream",
     "text": [
      "enter no: 65 44 30 87 3 9\n",
      "List without even numbers: ['65', '87', '3', '9']\n"
     ]
    }
   ],
   "source": [
    "#2. From a list of integers, create a list removing even numbers.\n",
    "num = input(\"enter no: \").split()\n",
    "num_list=[]\n",
    "for i in num:\n",
    "    if int(i)%2!=0:\n",
    "        num_list.append(i)\n",
    "    \n",
    "print(\"List without even numbers:\",num_list)\n"
   ]
  },
  {
   "cell_type": "code",
   "execution_count": 4,
   "id": "6ad9073b",
   "metadata": {},
   "outputs": [
    {
     "name": "stdout",
     "output_type": "stream",
     "text": [
      "enter no: 1 3 5 7 2 9\n",
      "sum of all items in the list:  27\n"
     ]
    }
   ],
   "source": [
    "#3. Find the sum of all items in a list\n",
    "num = input(\"enter no: \").split();sums=0\n",
    "for i in num:\n",
    "    sums+=int(i)\n",
    "print(\"sum of all items in the list: \",sums)\n"
   ]
  },
  {
   "cell_type": "code",
   "execution_count": 5,
   "id": "fecd1b31",
   "metadata": {},
   "outputs": [
    {
     "name": "stdout",
     "output_type": "stream",
     "text": [
      "Enter starting range: 1111\n",
      "Enter ending range: 9999\n",
      "The square even numbers in the range: \n",
      "4624\n",
      "6084\n",
      "6400\n",
      "8464\n"
     ]
    }
   ],
   "source": [
    "#4. Generate a list of four digits even digit numbers in a given range & the number is a perfect square.\n",
    "import math\n",
    "\n",
    "start = int(input(\"Enter starting range: \"))\n",
    "end = int(input(\"Enter ending range: \"))\n",
    "\n",
    "print(\"The square even numbers in the range: \")\n",
    "for num in range(start, end + 1):\n",
    "    if all(int(digit) % 2 == 0 for digit in str(num)):\n",
    "        root = int(math.sqrt(num))\n",
    "        if root * root == num:\n",
    "            print(num)\n"
   ]
  },
  {
   "cell_type": "code",
   "execution_count": 6,
   "id": "154de0b5",
   "metadata": {},
   "outputs": [
    {
     "name": "stdout",
     "output_type": "stream",
     "text": [
      "enter text: rashika\n",
      "Character frequency in the string\n",
      "r : 1\n",
      "s : 1\n",
      "h : 1\n",
      "i : 1\n",
      "a : 2\n",
      "k : 1\n"
     ]
    }
   ],
   "source": [
    "#5. Count the number of characters (character frequency) in a string.\n",
    "\n",
    "txt=input(\"enter text: \")\n",
    "print(\"Character frequency in the string\")\n",
    "for i in set(txt):\n",
    "    print(i,\":\",txt.count(i))\n"
   ]
  },
  {
   "cell_type": "code",
   "execution_count": 7,
   "id": "893d4976",
   "metadata": {},
   "outputs": [
    {
     "name": "stdout",
     "output_type": "stream",
     "text": [
      "enter text: pseudocodio\n",
      "Modified string: \n",
      "pseudocodioing\n"
     ]
    }
   ],
   "source": [
    "#6. Add ‘ing’ at end of string, If it didn't ends with ‘ing’. else add ‘ly'\n",
    "\n",
    "txt = input(\"enter text: \")\n",
    "print(\"Modified string: \")\n",
    "if txt.endswith(\"ing\"):\n",
    "    print(txt+\"ly\")\n",
    "else:\n",
    "    print(txt+\"ing\")\n"
   ]
  },
  {
   "cell_type": "code",
   "execution_count": null,
   "id": "5beabaad",
   "metadata": {},
   "outputs": [],
   "source": []
  }
 ],
 "metadata": {
  "kernelspec": {
   "display_name": "Python 3 (ipykernel)",
   "language": "python",
   "name": "python3"
  },
  "language_info": {
   "codemirror_mode": {
    "name": "ipython",
    "version": 3
   },
   "file_extension": ".py",
   "mimetype": "text/x-python",
   "name": "python",
   "nbconvert_exporter": "python",
   "pygments_lexer": "ipython3",
   "version": "3.12.3"
  }
 },
 "nbformat": 4,
 "nbformat_minor": 5
}
