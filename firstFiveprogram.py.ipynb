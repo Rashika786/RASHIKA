{
 "cells": [
  {
   "cell_type": "code",
   "execution_count": 1,
   "id": "62b37ce3",
   "metadata": {},
   "outputs": [
    {
     "name": "stdout",
     "output_type": "stream",
     "text": [
      "enter the side:5\n",
      "area of square= 25\n"
     ]
    }
   ],
   "source": [
    "a=int(input(\"enter the side:\"))\n",
    "area=a*a\n",
    "print(\"area of square=\",area)"
   ]
  },
  {
   "cell_type": "code",
   "execution_count": 2,
   "id": "ba91c3da",
   "metadata": {},
   "outputs": [
    {
     "name": "stdout",
     "output_type": "stream",
     "text": [
      "enter the base of triangle:5\n",
      "enter the height of triangle:7\n",
      "the area of right angled triange is  17.5\n"
     ]
    }
   ],
   "source": [
    "b=float(input(\"enter the base of triangle:\"))\n",
    "h=float(input(\"enter the height of triangle:\"))\n",
    "area=0.5*b*h\n",
    "print(\"the area of right angled triange is \",area)"
   ]
  },
  {
   "cell_type": "code",
   "execution_count": 3,
   "id": "79f8cf19",
   "metadata": {},
   "outputs": [
    {
     "name": "stdout",
     "output_type": "stream",
     "text": [
      "enter your name:rashika\n",
      "hello,rashika!\n"
     ]
    }
   ],
   "source": [
    "username=input(\"enter your name:\")\n",
    "print(f\"hello,{username}!\")\n"
   ]
  },
  {
   "cell_type": "code",
   "execution_count": 2,
   "id": "6a92a448",
   "metadata": {},
   "outputs": [
    {
     "name": "stdout",
     "output_type": "stream",
     "text": [
      "enter a integer no:9\n",
      "the previous number is 8 and the next number is 10\n"
     ]
    }
   ],
   "source": [
    "num=int(input(\"enter a integer no:\"))\n",
    "previousNo=num-1\n",
    "nextNo=num+1\n",
    "print(f\"the previous number is {previousNo} and the next number is {nextNo}\")"
   ]
  },
  {
   "cell_type": "code",
   "execution_count": 1,
   "id": "5408521e",
   "metadata": {},
   "outputs": [
    {
     "name": "stdout",
     "output_type": "stream",
     "text": [
      "enter the principal amount:1000\n",
      "enter the rate of interest:5\n",
      "enter the enter the time period in years:3\n",
      "the simple interest is: 150.0\n"
     ]
    }
   ],
   "source": [
    "principal=float(input('enter the principal amount:'))\n",
    "rate=float(input('enter the rate of interest:'))\n",
    "time=float(input('enter the enter the time period in years:'))\n",
    "simpleInterest=(principal*rate*time)/100\n",
    "print(\"the simple interest is:\",simpleInterest)"
   ]
  },
  {
   "cell_type": "code",
   "execution_count": null,
   "id": "2924ab21",
   "metadata": {},
   "outputs": [],
   "source": []
  }
 ],
 "metadata": {
  "kernelspec": {
   "display_name": "Python 3 (ipykernel)",
   "language": "python",
   "name": "python3"
  },
  "language_info": {
   "codemirror_mode": {
    "name": "ipython",
    "version": 3
   },
   "file_extension": ".py",
   "mimetype": "text/x-python",
   "name": "python",
   "nbconvert_exporter": "python",
   "pygments_lexer": "ipython3",
   "version": "3.12.3"
  }
 },
 "nbformat": 4,
 "nbformat_minor": 5
}
