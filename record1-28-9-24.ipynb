{
 "cells": [
  {
   "cell_type": "code",
   "execution_count": 3,
   "id": "95ebdf65",
   "metadata": {},
   "outputs": [
    {
     "name": "stdout",
     "output_type": "stream",
     "text": [
      "enter the integer no:5\n",
      "5+55+555=615\n"
     ]
    }
   ],
   "source": [
    "#compute n+nn+nnn=?\n",
    "\n",
    "n=input(\"enter the integer no:\")\n",
    "result=int(n)+int (n*2)+int (n*3)\n",
    "print(f\"{n}+{n*2}+{n*3}={result}\")"
   ]
  },
  {
   "cell_type": "code",
   "execution_count": 11,
   "id": "5183b6dd",
   "metadata": {},
   "outputs": [
    {
     "name": "stdout",
     "output_type": "stream",
     "text": [
      "enter the radius:5\n",
      " area of circle is: 78.54\n"
     ]
    }
   ],
   "source": [
    "#area of circle\n",
    "\n",
    "import math\n",
    "r=float(input(\"enter the radius:\"))\n",
    "area=math.pi*r*r\n",
    "print(\" area of circle is:\",\"%.2f\" % area)"
   ]
  },
  {
   "cell_type": "code",
   "execution_count": 12,
   "id": "926cdfa8",
   "metadata": {},
   "outputs": [
    {
     "name": "stdout",
     "output_type": "stream",
     "text": [
      "enter the first number:5\n",
      "enter the second number:2\n",
      "enter the third number:9\n",
      "the biggest no.is 9\n"
     ]
    }
   ],
   "source": [
    "#biggest of number\n",
    "\n",
    "import math\n",
    "a=int(input(\"enter the first number:\"))\n",
    "b=int(input(\"enter the second number:\"))\n",
    "c=int(input(\"enter the third number:\"))\n",
    "biggest=max(a,b,c)\n",
    "print(\"the biggest no.is\",biggest)\n",
    "\n"
   ]
  },
  {
   "cell_type": "code",
   "execution_count": null,
   "id": "a6b8d70c",
   "metadata": {},
   "outputs": [],
   "source": []
  }
 ],
 "metadata": {
  "kernelspec": {
   "display_name": "Python 3 (ipykernel)",
   "language": "python",
   "name": "python3"
  },
  "language_info": {
   "codemirror_mode": {
    "name": "ipython",
    "version": 3
   },
   "file_extension": ".py",
   "mimetype": "text/x-python",
   "name": "python",
   "nbconvert_exporter": "python",
   "pygments_lexer": "ipython3",
   "version": "3.12.3"
  }
 },
 "nbformat": 4,
 "nbformat_minor": 5
}
