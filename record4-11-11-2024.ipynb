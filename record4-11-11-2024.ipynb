
{
 "cells": [
  {
   "cell_type": "code",
   "execution_count": 3,
   "id": "d55c59db",
   "metadata": {},
   "outputs": [
    {
     "name": "stdout",
     "output_type": "stream",
     "text": [
      "enter the line of text:this is my problem and is this that much problemm\n",
      "this 2\n",
      "problemm 1\n",
      "that 1\n",
      "my 1\n",
      "problem 1\n",
      "is 2\n",
      "and 1\n",
      "much 1\n"
     ]
    }
   ],
   "source": [
    "#count the occurrences of each word in a line of text.\n",
    "\n",
    "text=input(\"enter the line of text:\").lower().split()\n",
    "for word in set(text):\n",
    "    print(word,text.count(word))"
   ]
  },
  {
   "cell_type": "code",
   "execution_count": 7,
   "id": "fa199035",
   "metadata": {},
   "outputs": [
    {
     "name": "stdout",
     "output_type": "stream",
     "text": [
      "Enter a list of integers separated by spaces: 10 200 30 500 60 100\n",
      "the store over result is: [10, 'over', 30, 'over', 60, 100]\n"
     ]
    }
   ],
   "source": [
    "#Prompt the user for a list of integers. For all values greater than 100, store ‘over’ instead.\n",
    "\n",
    "listint = input(\"Enter a list of integers separated by spaces: \").split()\n",
    "result = []\n",
    "for x in listint:\n",
    "            result.append('over' if int(x)>100 else int(x))\n",
    "print(\"the store over result is:\",result)\n"
   ]
  },
  {
   "cell_type": "code",
   "execution_count": 8,
   "id": "afbcd1c5",
   "metadata": {},
   "outputs": [
    {
     "name": "stdout",
     "output_type": "stream",
     "text": [
      "enter the first names:ponnu minnu adhu rami ichu uppa umma\n",
      "occurences of 'a' is: 4\n"
     ]
    }
   ],
   "source": [
    "#Store a list of first names. Count the occurrences of ‘a’ within the list.\n",
    "\n",
    "names=input(\"enter the first names:\").split()\n",
    "count=sum(name.lower().count('a')for name in names)\n",
    "print(\"occurences of 'a' is:\",count)"
   ]
  },
  {
   "cell_type": "code",
   "execution_count": 7,
   "id": "d785ed02",
   "metadata": {},
   "outputs": [
    {
     "name": "stdout",
     "output_type": "stream",
     "text": [
      "Enter the first list of integers (comma-separated): 3,4,5,6\n",
      "Enter the second list of integers (comma-separated): 1,2,3,4,5,6\n",
      "Same length: False\n",
      "Same sum: False\n",
      "Common values: True\n"
     ]
    }
   ],
   "source": [
    "#Check (a) Whether list are of same length (b) whether list sums to same value (c) whether any value occur in both.\n",
    "\n",
    "list1 = [int(x) for x in input(\"Enter the first list of integers (comma-separated): \").split(',')]\n",
    "list2 = [int(x) for x in input(\"Enter the second list of integers (comma-separated): \").split(',')]\n",
    "\n",
    "\n",
    "same_length = len(list1) == len(list2)\n",
    "\n",
    "\n",
    "same_sum = sum(list1) == sum(list2)\n",
    "\n",
    "\n",
    "common_values = any(val in list1 for val in list2)\n",
    "\n",
    "\n",
    "print(f\"Same length: {same_length}\")\n",
    "print(f\"Same sum: {same_sum}\")\n",
    "print(f\"Common values: {common_values}\")\n"
   ]
  },
  {
   "cell_type": "code",
   "execution_count": 9,
   "id": "0fc975cf",
   "metadata": {},
   "outputs": [
    {
     "name": "stdout",
     "output_type": "stream",
     "text": [
      "Enter a list of integers (comma-separated): -5,5,1,-6,9,3\n",
      "Positive numbers: [5, 1, 9, 3]\n",
      "Squared numbers: [25, 25, 1, 36, 81, 9]\n",
      "Enter a word: rebellion\n",
      "Vowels in the word: ['e', 'e', 'i', 'o']\n",
      "Ordinal values of the word: [114, 101, 98, 101, 108, 108, 105, 111, 110]\n"
     ]
    }
   ],
   "source": [
    "\n",
    "numbers = [int(x) for x in input(\"Enter a list of integers (comma-separated): \").split(',')]\n",
    "positive_numbers = [num for num in numbers if num > 0]\n",
    "print(\"Positive numbers:\", positive_numbers)\n",
    "\n",
    "squared_numbers = [num**2 for num in numbers]\n",
    "print(\"Squared numbers:\", squared_numbers)\n",
    "\n",
    "word = input(\"Enter a word: \")\n",
    "vowels = [char for char in word if char in 'aeiouAEIOU']\n",
    "print(\"Vowels in the word:\", vowels)\n",
    "\n",
    "ordinal_values = [ord(char) for char in word]\n",
    "print(\"Ordinal values of the word:\", ordinal_values)\n"
   ]
  },
  {
   "cell_type": "code",
   "execution_count": null,
   "id": "6efc9175",
   "metadata": {},
   "outputs": [],
   "source": []
  }
 ],
 "metadata": {
  "kernelspec": {
   "display_name": "Python 3 (ipykernel)",
   "language": "python",
   "name": "python3"
  },
  "language_info": {
   "codemirror_mode": {
    "name": "ipython",
    "version": 3
   },
   "file_extension": ".py",
   "mimetype": "text/x-python",
   "name": "python",
   "nbconvert_exporter": "python",
   "pygments_lexer": "ipython3",
   "version": "3.12.3"
  }
 },
 "nbformat": 4,
 "nbformat_minor": 5
}
