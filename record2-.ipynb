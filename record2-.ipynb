{
 "cells": [
  {
   "cell_type": "code",
   "execution_count": 2,
   "id": "b16cca0f",
   "metadata": {
    "collapsed": true
   },
   "outputs": [
    {
     "name": "stdout",
     "output_type": "stream",
     "text": [
      "enter the celsius value:34.9\n",
      "the fahrenheit of 34.9degree celsius is 94.82\n"
     ]
    }
   ],
   "source": [
    "#degree to fahrenheit\n",
    "\n",
    "c=float(input(\"enter the celsius value:\"))\n",
    "fahrenheit=9/5*c+32\n",
    "print(f\"the fahrenheit of {c}degree celsius is {fahrenheit}\")"
   ]
  },
  {
   "cell_type": "raw",
   "id": "720bdb73",
   "metadata": {},
   "source": [
    "#degree to fahrenheit\n",
    "\n",
    "c=float(input(\"enter the celsius value:\"))\n",
    "fahrenheit=9/5*c+32\n",
    "print(f\"the fahrenheit of {c}degree celsius is {fahrenheit}\")"
   ]
  },
  {
   "cell_type": "code",
   "execution_count": 2,
   "id": "a360a4f7",
   "metadata": {},
   "outputs": [
    {
     "name": "stdout",
     "output_type": "stream",
     "text": [
      "Enter distance in kilometers: 6\n",
      "6.0 kilometers is equal to 3.73 miles.\n"
     ]
    }
   ],
   "source": [
    "#convert kilometers to miles\n",
    "\n",
    "kilometers = float(input(\"Enter distance in kilometers: \"))\n",
    "miles = kilometers * 0.62137\n",
    "print(f\"{kilometers} kilometers is equal to {miles:.2f} miles.\")"
   ]
  },
  {
   "cell_type": "code",
   "execution_count": 6,
   "id": "57e2c006",
   "metadata": {},
   "outputs": [
    {
     "name": "stdout",
     "output_type": "stream",
     "text": [
      "Enter the price of product A: 120\n",
      "Enter the price of product B: 80\n",
      "Enter the price of product C: 30\n",
      "\n",
      "Total Price: $230.00\n",
      "Final Price (after 15% discount): $195.50\n",
      "Average Price: $76.67\n",
      "Product A is more expensive than the final price: False\n",
      "Product B is more expensive than the final price: False\n",
      "Product C is more expensive than the final price: False\n",
      "Final price is in the range of $50 to $200: True\n"
     ]
    }
   ],
   "source": [
    "#prices of three products\n",
    "\n",
    "price_a = float(input(\"Enter the price of product A: \"))\n",
    "price_b = float(input(\"Enter the price of product B: \"))\n",
    "price_c = float(input(\"Enter the price of product C: \"))\n",
    "\n",
    "total_price = price_a + price_b + price_c\n",
    "discount = total_price * 0.15\n",
    "final_price = total_price - discount\n",
    "average_price = total_price / 3\n",
    "is_expensive_a = price_a > final_price\n",
    "is_expensive_b = price_b > final_price\n",
    "is_expensive_c = price_c > final_price\n",
    "is_within_range = 50 <= final_price <= 200\n",
    "\n",
    "print(f\"\\nTotal Price: ${total_price:.2f}\")\n",
    "print(f\"Final Price (after 15% discount): ${final_price:.2f}\")\n",
    "print(f\"Average Price: ${average_price:.2f}\")\n",
    "print(f\"Product A is more expensive than the final price: {is_expensive_a}\")\n",
    "print(f\"Product B is more expensive than the final price: {is_expensive_b}\")\n",
    "print(f\"Product C is more expensive than the final price: {is_expensive_c}\")\n",
    "print(f\"Final price is in the range of $50 to $200: {is_within_range}\")\n"
   ]
  },
  {
   "cell_type": "code",
   "execution_count": null,
   "id": "5c92dbe7",
   "metadata": {},
   "outputs": [],
   "source": []
  }
 ],
 "metadata": {
  "kernelspec": {
   "display_name": "Python 3 (ipykernel)",
   "language": "python",
   "name": "python3"
  },
  "language_info": {
   "codemirror_mode": {
    "name": "ipython",
    "version": 3
   },
   "file_extension": ".py",
   "mimetype": "text/x-python",
   "name": "python",
   "nbconvert_exporter": "python",
   "pygments_lexer": "ipython3",
   "version": "3.12.3"
  }
 },
 "nbformat": 4,
 "nbformat_minor": 5
}
